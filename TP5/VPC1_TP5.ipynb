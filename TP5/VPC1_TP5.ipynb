{
 "cells": [
  {
   "cell_type": "markdown",
   "metadata": {},
   "source": [
    "#### ALGORITMO DE SUSTRACCION DE FONDO"
   ]
  },
  {
   "cell_type": "code",
   "execution_count": 308,
   "metadata": {},
   "outputs": [],
   "source": [
    "#Si queremos que las imágenes sean mostradas en una ventana emergente quitar el inline\n",
    "%matplotlib inline\n",
    "#%matplotlib\n",
    "\n",
    "# OpenCV-Python utiliza NumPy para el manejo de imágenes\n",
    "import numpy as np\n",
    "# cv2 es el módulo python para acceder a OpenCV \n",
    "import cv2 as cv\n",
    "# Usamos las poderosas herramientas de graficación de matplotlib para mostrar imágenes, perfiles, histogramas, etc\n",
    "import matplotlib.pyplot as plt"
   ]
  },
  {
   "cell_type": "markdown",
   "metadata": {},
   "source": [
    "#### Funcion de sustraccion de fondo"
   ]
  },
  {
   "cell_type": "code",
   "execution_count": 309,
   "metadata": {},
   "outputs": [],
   "source": [
    "def backgruond_suppress(filename, n_frame_back):\n",
    "    \n",
    "    # Leemos el video y el primer frame para obtener el tamaño del mismo\n",
    "    capture = cv.VideoCapture(filename)\n",
    "    ret, frame = capture.read(0)\n",
    "    w, h, d = frame.shape\n",
    "\n",
    "    nframe = 0\n",
    "    frame_back = 0\n",
    "\n",
    "    # Cantidad total de frames que contiene el video\n",
    "    total_framecount= int(capture.get(cv.CAP_PROP_FRAME_COUNT))\n",
    "\n",
    "    # De la cantidad total, seleccionamos de manera random los n_frame_back utilizados para generar el fondo\n",
    "    random_frames = np.random.choice(total_framecount, n_frame_back)\n",
    "\n",
    "    # Generamos una matriz de ceros para cada canal\n",
    "    background_frames_b = np.zeros([w,h,n_frame_back])\n",
    "    background_frames_g = np.zeros([w,h,n_frame_back])\n",
    "    background_frames_r = np.zeros([w,h,n_frame_back])\n",
    "\n",
    "    while True:\n",
    "    \n",
    "        ret, frame = capture.read()\n",
    "\n",
    "        if frame is None:\n",
    "            break\n",
    "\n",
    "        nframe += 1\n",
    "\n",
    "        if nframe in random_frames:\n",
    "\n",
    "            back_b, back_g, back_r = cv.split(frame)\n",
    "\n",
    "            background_frames_b[:,:,frame_back] = back_b\n",
    "            background_frames_g[:,:,frame_back] = back_g\n",
    "            background_frames_r[:,:,frame_back] = back_r\n",
    "\n",
    "            frame_back += 1\n",
    "    \n",
    "    # Calculamos la mediana para cada canal\n",
    "    median_b = np.median(background_frames_b, axis=2)\n",
    "    median_g = np.median(background_frames_g, axis=2)\n",
    "    median_r = np.median(background_frames_r, axis=2)\n",
    "\n",
    "    # Hacemos un merge de los canales para obtener finalmente el fondo\n",
    "    backgroung = cv.merge((median_b,median_g,median_r))\n",
    "    backgroung = backgroung.astype(np.uint8)\n",
    "\n",
    "    return backgroung"
   ]
  },
  {
   "cell_type": "markdown",
   "metadata": {},
   "source": [
    "#### Funcion de generacion de la mascara para cada frame"
   ]
  },
  {
   "cell_type": "code",
   "execution_count": 349,
   "metadata": {},
   "outputs": [],
   "source": [
    "def main_sustrator(filename, n_frame_back, refresh):\n",
    "\n",
    "    capture = cv.VideoCapture(filename)\n",
    "\n",
    "    n_act = 0\n",
    "\n",
    "    if not capture.isOpened:\n",
    "        print('Falla al abrir el archivo: ' + filename)\n",
    "        exit(0)\n",
    "\n",
    "    while True:\n",
    "        \n",
    "        # Leemos un frame\n",
    "        ret, frame = capture.read()\n",
    "        if frame is None:\n",
    "            break\n",
    "        \n",
    "        # calculamos los seg del video\n",
    "        video_sec = capture.get(cv.CAP_PROP_POS_MSEC)/1000\n",
    "        #print(video_sec)\n",
    "\n",
    "        if video_sec >= refresh * n_act:\n",
    "            \n",
    "            n_act += 1\n",
    "            # Generamos el background\n",
    "            print('Actualizamos el fondo')\n",
    "            background = backgruond_suppress(filename, n_frame_back)\n",
    "    \n",
    "        else:\n",
    "                 \n",
    "            # Aplicamos la sustracción al frame leído\n",
    "            background_gray = cv.cvtColor(background, cv.COLOR_BGR2GRAY)\n",
    "            frame_gray = cv.cvtColor(frame, cv.COLOR_BGR2GRAY)\n",
    "\n",
    "            # COnvertimos a float para poder restar. Los valores dentro de un umbral alrededor de cero los ponemos en cero y volvemos a convertir a unit8\n",
    "            background_gray = background_gray.astype(float)\n",
    "            frame_gray = frame_gray.astype(float)\n",
    "            fgMask0 =  frame_gray - background_gray\n",
    "            fgMask0[(-15 < fgMask0) & (fgMask0 < 15)] = 0\n",
    "            fgMask = fgMask0.astype('uint8')\n",
    "\n",
    "            # Binarizamos\n",
    "            ret, thresh = cv.threshold(fgMask,25,255,cv.THRESH_BINARY)\n",
    "            \n",
    "            # Creamos un elemento estructurante y aplicamos operaciones morfologicas\n",
    "            kernel = np.ones((3,3),np.uint8)\n",
    "            opening = cv.morphologyEx(thresh, cv.MORPH_OPEN, kernel, iterations = 1)\n",
    "            #opening = thresh\n",
    "\n",
    "            # Escribimos sobre la imagen el número de frame procesado\n",
    "            cv.rectangle(frame, (10, 2), (100,20), (255,255,255), -1)\n",
    "            cv.putText(frame, str(capture.get(cv.CAP_PROP_POS_FRAMES)), (15, 15),\n",
    "                    cv.FONT_HERSHEY_SIMPLEX, 0.5 , (0,0,0))\n",
    "            \n",
    "            # mostramos frame original e imagen binaria background/foreground\n",
    "            cv.imshow('Frame', frame)\n",
    "            cv.imshow('FG Mask', opening)\n",
    "            \n",
    "            # Corresmos hasta que termine o apriete escape\n",
    "            keyboard = cv.waitKey(30)\n",
    "            if keyboard == 'q' or keyboard == 27:\n",
    "                break   \n",
    "             \n",
    "    cv.destroyAllWindows()\n",
    "    capture.release()"
   ]
  },
  {
   "cell_type": "code",
   "execution_count": 352,
   "metadata": {},
   "outputs": [
    {
     "name": "stdout",
     "output_type": "stream",
     "text": [
      "Actualizamos el fondo\n",
      "Actualizamos el fondo\n",
      "Actualizamos el fondo\n",
      "Actualizamos el fondo\n",
      "Actualizamos el fondo\n",
      "Actualizamos el fondo\n",
      "Actualizamos el fondo\n",
      "Actualizamos el fondo\n"
     ]
    }
   ],
   "source": [
    "filename = 'C:/Users\\juana\\OneDrive\\Documentos\\IA\\CEIA\\VPC1\\Codigo\\Clase8/vtest.avi'\n",
    "\n",
    "# main_sustrator(filename,  n_frame_back, refresh), donde:\n",
    "# - filename = nombre del archivo de video\n",
    "# - n_frame_back = cantidad de frame para obtener el fondo\n",
    "# - refresh = tiempo en seg de actualizacion del fondo\n",
    "main_sustrator(filename, 50, 10)\n"
   ]
  },
  {
   "cell_type": "code",
   "execution_count": 353,
   "metadata": {},
   "outputs": [
    {
     "name": "stdout",
     "output_type": "stream",
     "text": [
      "Actualizamos el fondo\n",
      "Actualizamos el fondo\n",
      "Actualizamos el fondo\n",
      "Actualizamos el fondo\n"
     ]
    }
   ],
   "source": [
    "filename = 'C:/Users\\juana\\OneDrive\\Documentos\\IA\\CEIA\\VPC1\\Codigo\\Clase8/slow_traffic_small.mp4'\n",
    "\n",
    "# main_sustrator(filename,  n_frame_back, refresh), donde:\n",
    "# - filename = nombre del archivo de video\n",
    "# - n_frame_back = cantidad de frame para obtener el fondo\n",
    "# - refresh = tiempo en seg de actualizacion del fondo\n",
    "main_sustrator(filename, 25, 10)"
   ]
  },
  {
   "cell_type": "markdown",
   "metadata": {},
   "source": [
    "#### Comparacion con los algoritmos de mezclas de Gaussianas"
   ]
  },
  {
   "cell_type": "code",
   "execution_count": null,
   "metadata": {},
   "outputs": [],
   "source": [
    "metodo = 'MOG2'\n",
    "#metodo = 'KNN'\n",
    "if metodo == 'MOG2':\n",
    "    backSub = cv.createBackgroundSubtractorMOG2()\n",
    "else:\n",
    "    backSub = cv.createBackgroundSubtractorKNN()\n",
    "    backSub = cv.createBackgroundSubtractorKNN(detectShadows = True)\n",
    "\n",
    "# Abrimos el archivo\n",
    "#-------------------\n",
    "#filename = 'C:/Users\\juana\\OneDrive\\Documentos\\IA\\CEIA\\VPC1\\Codigo\\Clase8/vtest.avi'\n",
    "filename = 'C:/Users\\juana\\OneDrive\\Documentos\\IA\\CEIA\\VPC1\\Codigo\\Clase8/slow_traffic_small.mp4'\n",
    "capture = cv.VideoCapture(filename)\n",
    "\n",
    "if not capture.isOpened:\n",
    "    print('Falla al abrir el archivo: ' + filename)\n",
    "    exit(0)\n",
    "\n",
    "# Corremos la sustraccion\n",
    "#------------------------\n",
    "while True:\n",
    "    # Leemos un frame\n",
    "    ret, frame = capture.read()\n",
    "    if frame is None:\n",
    "        break\n",
    "    \n",
    "    # Aplicamos la sustracción al frame leído\n",
    "    #----------------------------------------\n",
    "    # Cada frame se utiliza tanto para calcular la máscara de primer plano como para actualizar el fondo.\n",
    "    # Si se desea cambiar la tasa de aprendizaje utilizada para actualizar el modelo de fondo, es posible\n",
    "    # establecer una tasa de aprendizaje específica pasando un parámetro al método apply.\n",
    "    fgMask = backSub.apply(frame)\n",
    "    \n",
    "    # Escribimos sobre la imagen el número de frame procesado\n",
    "    cv.rectangle(frame, (10, 2), (100,20), (255,255,255), -1)\n",
    "    cv.putText(frame, str(capture.get(cv.CAP_PROP_POS_FRAMES)), (15, 15),\n",
    "               cv.FONT_HERSHEY_SIMPLEX, 0.5 , (0,0,0))\n",
    "    \n",
    "    # mostramos frame original e imagen binaria background/foreground\n",
    "    cv.imshow('Frame', frame)\n",
    "    cv.imshow('FG Mask', fgMask)\n",
    "    \n",
    "    # Corresmos hasta que termine o apriete escape\n",
    "    keyboard = cv.waitKey(30)\n",
    "    if keyboard == 'q' or keyboard == 27:\n",
    "        break\n",
    "\n",
    "cv.destroyAllWindows()\n",
    "capture.release()"
   ]
  },
  {
   "cell_type": "markdown",
   "metadata": {},
   "source": [
    "Con el algoritmo implementado de naive para detectar el fondo usando la mediana como estimador se consiguen resultados similares a los de Opencv de mezclas de Gaussianas, considerando como aceptable a este para la deteccion de objetos en movimiento. Paca cada tipo de video, es posible ajustar algunos valores que estan dentro de la funcion, de manera de hacer mejor la deteccion."
   ]
  }
 ],
 "metadata": {
  "kernelspec": {
   "display_name": "Python 3.9.7 64-bit",
   "language": "python",
   "name": "python3"
  },
  "language_info": {
   "codemirror_mode": {
    "name": "ipython",
    "version": 3
   },
   "file_extension": ".py",
   "mimetype": "text/x-python",
   "name": "python",
   "nbconvert_exporter": "python",
   "pygments_lexer": "ipython3",
   "version": "3.9.7"
  },
  "orig_nbformat": 4,
  "vscode": {
   "interpreter": {
    "hash": "6d3c9cdb27c7a943eb40fb9c0ef2d43af6486b2739eb84dc1cd933688480174b"
   }
  }
 },
 "nbformat": 4,
 "nbformat_minor": 2
}
